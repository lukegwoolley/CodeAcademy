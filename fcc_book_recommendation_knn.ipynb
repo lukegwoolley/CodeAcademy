{
  "nbformat": 4,
  "nbformat_minor": 0,
  "metadata": {
    "colab": {
      "name": "fcc_book_recommendation_knn.ipynb",
      "provenance": [],
      "collapsed_sections": [],
      "include_colab_link": true
    },
    "kernelspec": {
      "display_name": "Python 3",
      "language": "python",
      "name": "python3"
    },
    "language_info": {
      "codemirror_mode": {
        "name": "ipython",
        "version": 3
      },
      "file_extension": ".py",
      "mimetype": "text/x-python",
      "name": "python",
      "nbconvert_exporter": "python",
      "pygments_lexer": "ipython3",
      "version": "3.6.5"
    },
    "accelerator": "GPU"
  },
  "cells": [
    {
      "cell_type": "markdown",
      "metadata": {
        "id": "view-in-github",
        "colab_type": "text"
      },
      "source": [
        "<a href=\"https://colab.research.google.com/github/lukegwoolley/CodeAcademy/blob/main/fcc_book_recommendation_knn.ipynb\" target=\"_parent\"><img src=\"https://colab.research.google.com/assets/colab-badge.svg\" alt=\"Open In Colab\"/></a>"
      ]
    },
    {
      "cell_type": "markdown",
      "metadata": {
        "id": "uGd4NYQX1Rf_"
      },
      "source": [
        "*Note: You are currently reading this using Google Colaboratory which is a cloud-hosted version of Jupyter Notebook. This is a document containing both text cells for documentation and runnable code cells. If you are unfamiliar with Jupyter Notebook, watch this 3-minute introduction before starting this challenge: https://www.youtube.com/watch?v=inN8seMm7UI*\n",
        "\n",
        "---\n",
        "\n",
        "In this challenge, you will create a book recommendation algorithm using **K-Nearest Neighbors**.\n",
        "\n",
        "You will use the [Book-Crossings dataset](http://www2.informatik.uni-freiburg.de/~cziegler/BX/). This dataset contains 1.1 million ratings (scale of 1-10) of 270,000 books by 90,000 users. \n",
        "\n",
        "After importing and cleaning the data, use `NearestNeighbors` from `sklearn.neighbors` to develop a model that shows books that are similar to a given book. The Nearest Neighbors algorithm measures distance to determine the “closeness” of instances.\n",
        "\n",
        "Create a function named `get_recommends` that takes a book title (from the dataset) as an argument and returns a list of 5 similar books with their distances from the book argument.\n",
        "\n",
        "This code:\n",
        "\n",
        "`get_recommends(\"The Queen of the Damned (Vampire Chronicles (Paperback))\")`\n",
        "\n",
        "should return:\n",
        "\n",
        "```\n",
        "[\n",
        "  'The Queen of the Damned (Vampire Chronicles (Paperback))',\n",
        "  [\n",
        "    ['Catch 22', 0.793983519077301], \n",
        "    ['The Witching Hour (Lives of the Mayfair Witches)', 0.7448656558990479], \n",
        "    ['Interview with the Vampire', 0.7345068454742432],\n",
        "    ['The Tale of the Body Thief (Vampire Chronicles (Paperback))', 0.5376338362693787],\n",
        "    ['The Vampire Lestat (Vampire Chronicles, Book II)', 0.5178412199020386]\n",
        "  ]\n",
        "]\n",
        "```\n",
        "\n",
        "Notice that the data returned from `get_recommends()` is a list. The first element in the list is the book title passed in to the function. The second element in the list is a list of five more lists. Each of the five lists contains a recommended book and the distance from the recommended book to the book passed in to the function.\n",
        "\n",
        "If you graph the dataset (optional), you will notice that most books are not rated frequently. To ensure statistical significance, remove from the dataset users with less than 200 ratings and books with less than 100 ratings.\n",
        "\n",
        "The first three cells import libraries you may need and the data to use. The final cell is for testing. Write all your code in between those cells."
      ]
    },
    {
      "cell_type": "code",
      "metadata": {
        "id": "Y1onB6kUvo4Z"
      },
      "source": [
        "# import libraries (you may add additional imports but you may not have to)\n",
        "import numpy as np\n",
        "import pandas as pd\n",
        "from scipy.sparse import csr_matrix\n",
        "from sklearn.neighbors import NearestNeighbors\n",
        "import matplotlib.pyplot as plt"
      ],
      "execution_count": 1,
      "outputs": []
    },
    {
      "cell_type": "code",
      "metadata": {
        "id": "iAQGqqO_vo4d",
        "colab": {
          "base_uri": "https://localhost:8080/"
        },
        "outputId": "eec21043-ccde-4975-a3e0-9f67b4c07984"
      },
      "source": [
        "# get data files\n",
        "!wget https://cdn.freecodecamp.org/project-data/books/book-crossings.zip\n",
        "\n",
        "!unzip book-crossings.zip\n",
        "\n",
        "books_filename = 'BX-Books.csv'\n",
        "ratings_filename = 'BX-Book-Ratings.csv'"
      ],
      "execution_count": 2,
      "outputs": [
        {
          "output_type": "stream",
          "text": [
            "--2021-08-24 11:47:16--  https://cdn.freecodecamp.org/project-data/books/book-crossings.zip\n",
            "Resolving cdn.freecodecamp.org (cdn.freecodecamp.org)... 172.67.70.149, 104.26.3.33, 104.26.2.33, ...\n",
            "Connecting to cdn.freecodecamp.org (cdn.freecodecamp.org)|172.67.70.149|:443... connected.\n",
            "HTTP request sent, awaiting response... 200 OK\n",
            "Length: 26085508 (25M) [application/zip]\n",
            "Saving to: ‘book-crossings.zip’\n",
            "\n",
            "book-crossings.zip  100%[===================>]  24.88M  --.-KB/s    in 0.1s    \n",
            "\n",
            "2021-08-24 11:47:16 (172 MB/s) - ‘book-crossings.zip’ saved [26085508/26085508]\n",
            "\n",
            "Archive:  book-crossings.zip\n",
            "  inflating: BX-Book-Ratings.csv     \n",
            "  inflating: BX-Books.csv            \n",
            "  inflating: BX-Users.csv            \n"
          ],
          "name": "stdout"
        }
      ]
    },
    {
      "cell_type": "code",
      "metadata": {
        "id": "NClILWOiEd6Q"
      },
      "source": [
        "# import csv data into dataframes\n",
        "df_books = pd.read_csv(\n",
        "    books_filename,\n",
        "    encoding = \"ISO-8859-1\",\n",
        "    sep=\";\",\n",
        "    header=0,\n",
        "    names=['isbn', 'title', 'author'],\n",
        "    usecols=['isbn', 'title', 'author'],\n",
        "    dtype={'isbn': 'str', 'title': 'str', 'author': 'str'})\n",
        "\n",
        "df_ratings = pd.read_csv(\n",
        "    ratings_filename,\n",
        "    encoding = \"ISO-8859-1\",\n",
        "    sep=\";\",\n",
        "    header=0,\n",
        "    names=['user', 'isbn', 'rating'],\n",
        "    usecols=['user', 'isbn', 'rating'],\n",
        "    dtype={'user': 'int32', 'isbn': 'str', 'rating': 'float32'})"
      ],
      "execution_count": 46,
      "outputs": []
    },
    {
      "cell_type": "code",
      "metadata": {
        "id": "xAcXjkCFCh0A",
        "colab": {
          "base_uri": "https://localhost:8080/",
          "height": 206
        },
        "outputId": "942bd343-c257-4b08-8320-f7817e2b4214"
      },
      "source": [
        "# add your code here - consider creating a new cell for each section of code\n",
        "#remove users and books with a low amount of ratings as not statistically significant \n",
        "counts1 = df_ratings['user'].value_counts()\n",
        "df_ratings = df_ratings[df_ratings['user'].isin(counts1[counts1 >= 200].index)]\n",
        "counts = df_ratings['isbn'].value_counts()\n",
        "df_ratings = df_ratings[df_ratings['isbn'].isin(counts[counts >= 100].index)]\n",
        "\n",
        "#\n",
        "\n",
        "combine_book_rating = pd.merge(df_ratings, df_books, on='isbn')\n",
        "combine_book_rating = combine_book_rating.dropna(axis = 0, subset = ['title'])\n",
        "combine_book_rating.isnull().values.any()\n",
        "\n",
        "book_ratingCount = (combine_book_rating.\n",
        "     groupby(by = ['title'])['rating'].\n",
        "     count().\n",
        "     reset_index().\n",
        "     rename(columns = {'rating': 'totalrating'})\n",
        "     [['title', 'totalrating']]\n",
        "    )\n",
        "book_ratingCount.head()"
      ],
      "execution_count": 47,
      "outputs": [
        {
          "output_type": "execute_result",
          "data": {
            "text/html": [
              "<div>\n",
              "<style scoped>\n",
              "    .dataframe tbody tr th:only-of-type {\n",
              "        vertical-align: middle;\n",
              "    }\n",
              "\n",
              "    .dataframe tbody tr th {\n",
              "        vertical-align: top;\n",
              "    }\n",
              "\n",
              "    .dataframe thead th {\n",
              "        text-align: right;\n",
              "    }\n",
              "</style>\n",
              "<table border=\"1\" class=\"dataframe\">\n",
              "  <thead>\n",
              "    <tr style=\"text-align: right;\">\n",
              "      <th></th>\n",
              "      <th>title</th>\n",
              "      <th>totalrating</th>\n",
              "    </tr>\n",
              "  </thead>\n",
              "  <tbody>\n",
              "    <tr>\n",
              "      <th>0</th>\n",
              "      <td>1st to Die: A Novel</td>\n",
              "      <td>127</td>\n",
              "    </tr>\n",
              "    <tr>\n",
              "      <th>1</th>\n",
              "      <td>A Is for Alibi (Kinsey Millhone Mysteries (Pap...</td>\n",
              "      <td>140</td>\n",
              "    </tr>\n",
              "    <tr>\n",
              "      <th>2</th>\n",
              "      <td>A Map of the World</td>\n",
              "      <td>118</td>\n",
              "    </tr>\n",
              "    <tr>\n",
              "      <th>3</th>\n",
              "      <td>A Painted House</td>\n",
              "      <td>163</td>\n",
              "    </tr>\n",
              "    <tr>\n",
              "      <th>4</th>\n",
              "      <td>A Prayer for Owen Meany</td>\n",
              "      <td>137</td>\n",
              "    </tr>\n",
              "  </tbody>\n",
              "</table>\n",
              "</div>"
            ],
            "text/plain": [
              "                                               title  totalrating\n",
              "0                                1st to Die: A Novel          127\n",
              "1  A Is for Alibi (Kinsey Millhone Mysteries (Pap...          140\n",
              "2                                 A Map of the World          118\n",
              "3                                    A Painted House          163\n",
              "4                            A Prayer for Owen Meany          137"
            ]
          },
          "metadata": {},
          "execution_count": 47
        }
      ]
    },
    {
      "cell_type": "code",
      "metadata": {
        "id": "vNwJgXzN1LP6",
        "colab": {
          "base_uri": "https://localhost:8080/",
          "height": 206
        },
        "outputId": "e17a5a41-4bf5-4c1d-fdec-85c65b48eb97"
      },
      "source": [
        "rating_with_totalRatingCount = combine_book_rating.merge(book_ratingCount, left_on = 'title', right_on = 'title', how = 'left')\n",
        "rating_popular_book.head()"
      ],
      "execution_count": 48,
      "outputs": [
        {
          "output_type": "execute_result",
          "data": {
            "text/html": [
              "<div>\n",
              "<style scoped>\n",
              "    .dataframe tbody tr th:only-of-type {\n",
              "        vertical-align: middle;\n",
              "    }\n",
              "\n",
              "    .dataframe tbody tr th {\n",
              "        vertical-align: top;\n",
              "    }\n",
              "\n",
              "    .dataframe thead th {\n",
              "        text-align: right;\n",
              "    }\n",
              "</style>\n",
              "<table border=\"1\" class=\"dataframe\">\n",
              "  <thead>\n",
              "    <tr style=\"text-align: right;\">\n",
              "      <th></th>\n",
              "      <th>user</th>\n",
              "      <th>isbn</th>\n",
              "      <th>rating</th>\n",
              "      <th>title</th>\n",
              "      <th>author</th>\n",
              "      <th>totalrating</th>\n",
              "    </tr>\n",
              "  </thead>\n",
              "  <tbody>\n",
              "    <tr>\n",
              "      <th>0</th>\n",
              "      <td>277427</td>\n",
              "      <td>002542730X</td>\n",
              "      <td>10.0</td>\n",
              "      <td>Politically Correct Bedtime Stories: Modern Ta...</td>\n",
              "      <td>James Finn Garner</td>\n",
              "      <td>82</td>\n",
              "    </tr>\n",
              "    <tr>\n",
              "      <th>1</th>\n",
              "      <td>3363</td>\n",
              "      <td>002542730X</td>\n",
              "      <td>0.0</td>\n",
              "      <td>Politically Correct Bedtime Stories: Modern Ta...</td>\n",
              "      <td>James Finn Garner</td>\n",
              "      <td>82</td>\n",
              "    </tr>\n",
              "    <tr>\n",
              "      <th>2</th>\n",
              "      <td>11676</td>\n",
              "      <td>002542730X</td>\n",
              "      <td>6.0</td>\n",
              "      <td>Politically Correct Bedtime Stories: Modern Ta...</td>\n",
              "      <td>James Finn Garner</td>\n",
              "      <td>82</td>\n",
              "    </tr>\n",
              "    <tr>\n",
              "      <th>3</th>\n",
              "      <td>12538</td>\n",
              "      <td>002542730X</td>\n",
              "      <td>10.0</td>\n",
              "      <td>Politically Correct Bedtime Stories: Modern Ta...</td>\n",
              "      <td>James Finn Garner</td>\n",
              "      <td>82</td>\n",
              "    </tr>\n",
              "    <tr>\n",
              "      <th>4</th>\n",
              "      <td>13552</td>\n",
              "      <td>002542730X</td>\n",
              "      <td>0.0</td>\n",
              "      <td>Politically Correct Bedtime Stories: Modern Ta...</td>\n",
              "      <td>James Finn Garner</td>\n",
              "      <td>82</td>\n",
              "    </tr>\n",
              "  </tbody>\n",
              "</table>\n",
              "</div>"
            ],
            "text/plain": [
              "     user        isbn  ...             author totalrating\n",
              "0  277427  002542730X  ...  James Finn Garner          82\n",
              "1    3363  002542730X  ...  James Finn Garner          82\n",
              "2   11676  002542730X  ...  James Finn Garner          82\n",
              "3   12538  002542730X  ...  James Finn Garner          82\n",
              "4   13552  002542730X  ...  James Finn Garner          82\n",
              "\n",
              "[5 rows x 6 columns]"
            ]
          },
          "metadata": {},
          "execution_count": 48
        }
      ]
    },
    {
      "cell_type": "code",
      "metadata": {
        "id": "k-LbVuXgI70g",
        "colab": {
          "base_uri": "https://localhost:8080/"
        },
        "outputId": "d09c4d33-db69-43a3-ba24-112c8e083b1b"
      },
      "source": [
        "book = \"Where the Heart Is (Oprah's Book Club (Paperback))\"\n",
        "print(rating_popular_book[rating_popular_book['title']==book])"
      ],
      "execution_count": 49,
      "outputs": [
        {
          "output_type": "stream",
          "text": [
            "         user        isbn  ...        author totalrating\n",
            "31480  278418  0446672211  ...  Billie Letts         183\n",
            "31481    3363  0446672211  ...  Billie Letts         183\n",
            "31482    6251  0446672211  ...  Billie Letts         183\n",
            "31483    6563  0446672211  ...  Billie Letts         183\n",
            "31484    6575  0446672211  ...  Billie Letts         183\n",
            "...       ...         ...  ...           ...         ...\n",
            "31658  266226  0446672211  ...  Billie Letts         183\n",
            "31659  268932  0446672211  ...  Billie Letts         183\n",
            "31660  270713  0446672211  ...  Billie Letts         183\n",
            "31661  271448  0446672211  ...  Billie Letts         183\n",
            "31662  274808  0446672211  ...  Billie Letts         183\n",
            "\n",
            "[183 rows x 6 columns]\n"
          ],
          "name": "stdout"
        }
      ]
    },
    {
      "cell_type": "code",
      "metadata": {
        "id": "SyusLSZ509S7",
        "colab": {
          "base_uri": "https://localhost:8080/"
        },
        "outputId": "9c9f8e66-77c8-45a8-e9a1-a406c237fefc"
      },
      "source": [
        "rating_popular_book = rating_popular_book.drop_duplicates(['user', 'title'])\n",
        "print(rating_popular_book[rating_popular_book['title']==book])\n",
        "rating_popular_book_pivot = rating_popular_book.pivot(index = 'title', columns = 'user', values = 'rating').fillna(0)\n",
        "rating_popular_book_matrix = csr_matrix(rating_popular_book_pivot.values)\n",
        "\n",
        "model_knn = NearestNeighbors(metric = 'cosine', algorithm = 'brute', p=2)\n",
        "model_knn.fit(rating_popular_book_matrix)\n",
        "print(rating_popular_book_pivot.iloc[rating_popular_book_pivot.index.str.contains(book, regex=False),:])"
      ],
      "execution_count": 50,
      "outputs": [
        {
          "output_type": "stream",
          "text": [
            "         user        isbn  ...        author totalrating\n",
            "31480  278418  0446672211  ...  Billie Letts         183\n",
            "31481    3363  0446672211  ...  Billie Letts         183\n",
            "31482    6251  0446672211  ...  Billie Letts         183\n",
            "31483    6563  0446672211  ...  Billie Letts         183\n",
            "31484    6575  0446672211  ...  Billie Letts         183\n",
            "...       ...         ...  ...           ...         ...\n",
            "31658  266226  0446672211  ...  Billie Letts         183\n",
            "31659  268932  0446672211  ...  Billie Letts         183\n",
            "31660  270713  0446672211  ...  Billie Letts         183\n",
            "31661  271448  0446672211  ...  Billie Letts         183\n",
            "31662  274808  0446672211  ...  Billie Letts         183\n",
            "\n",
            "[183 rows x 6 columns]\n",
            "user                                                254     ...  278418\n",
            "title                                                       ...        \n",
            "Where the Heart Is (Oprah's Book Club (Paperback))     0.0  ...     0.0\n",
            "\n",
            "[1 rows x 894 columns]\n"
          ],
          "name": "stdout"
        }
      ]
    },
    {
      "cell_type": "code",
      "metadata": {
        "id": "f5ZUd-L1SQz7"
      },
      "source": [
        "# function to return recommended books - this will be tested\n",
        "def get_recommends(book = \"\"):\n",
        "  distances, indices = model_knn.kneighbors(rating_popular_book_pivot.iloc[rating_popular_book_pivot.index.str.contains(book, regex=False),:].values.reshape(1,-1), n_neighbors = 6)\n",
        "  recommended_books = []\n",
        "  rec_dist = []\n",
        "  for i in range(0, len(distances.flatten())):\n",
        "      if i == 0:\n",
        "         print('Recommendations for {0}:\\n'.format(book))\n",
        "         recommended_books.append(book)\n",
        "      else:\n",
        "         print('{0}: {1}, with distance of {2}:'.format(i, rating_popular_book_pivot.index[indices.flatten()[i]], distances.flatten()[i]))\n",
        "         recommended_books.append(rating_popular_book_pivot.index[indices.flatten()[i]])\n",
        "         rec_dist.append(distances.flatten()[i])\n",
        "\n",
        "  return recommended_books,rec_dist"
      ],
      "execution_count": 51,
      "outputs": []
    },
    {
      "cell_type": "code",
      "metadata": {
        "id": "8SZL_BHYmKuj",
        "outputId": "fc7b447a-2f2c-4fe4-df49-9cc1049e86fb",
        "colab": {
          "base_uri": "https://localhost:8080/"
        }
      },
      "source": [
        "book = \"The Queen of the Damned (Vampire Chronicles (Paperback))\"\n",
        "distances, indices = model_knn.kneighbors(rating_popular_book_pivot.iloc[rating_popular_book_pivot.index.str.contains(book, regex=False),:].values.reshape(1,-1), n_neighbors = 6)\n",
        "recommended_books = []\n",
        "for i in range(0, len(distances.flatten())):\n",
        "  if i == 0:\n",
        "      print('Recommendations for {0}:\\n'.format(book))\n",
        "      recommended_books.append(book)\n",
        "  else:\n",
        "      print('{0}: {1}, with distance of {2}:'.format(i, rating_popular_book_pivot.index[indices.flatten()[i]], distances.flatten()[i]))\n",
        "      recommended_books.append(rating_popular_book_pivot.index[indices.flatten()[i]])"
      ],
      "execution_count": 39,
      "outputs": [
        {
          "output_type": "stream",
          "text": [
            "Recommendations for The Queen of the Damned (Vampire Chronicles (Paperback)):\n",
            "\n",
            "1: The Vampire Lestat (Vampire Chronicles, Book II), with distance of 0.5178411602973938:\n",
            "2: The Tale of the Body Thief (Vampire Chronicles (Paperback)), with distance of 0.5376338362693787:\n",
            "3: Interview with the Vampire, with distance of 0.7383682131767273:\n",
            "4: The Witching Hour (Lives of the Mayfair Witches), with distance of 0.7435927391052246:\n",
            "5: Wizard and Glass (The Dark Tower, Book 4), with distance of 0.7591226100921631:\n"
          ],
          "name": "stdout"
        }
      ]
    },
    {
      "cell_type": "markdown",
      "metadata": {
        "id": "eat9A2TKawHU"
      },
      "source": [
        "Use the cell below to test your function. The `test_book_recommendation()` function will inform you if you passed the challenge or need to keep trying."
      ]
    },
    {
      "cell_type": "code",
      "metadata": {
        "id": "jd2SLCh8oxMh",
        "colab": {
          "base_uri": "https://localhost:8080/"
        },
        "outputId": "35962e30-acac-4f48-b314-a8075218d663"
      },
      "source": [
        "#books = get_recommends(\"Where the Heart Is (Oprah's Book Club (Paperback))\")\n",
        "\n",
        "def test_book_recommendation():\n",
        "  test_pass = True\n",
        "  recommends, distances = get_recommends(\"Where the Heart Is (Oprah's Book Club (Paperback))\")\n",
        "  if recommends[0] != \"Where the Heart Is (Oprah's Book Club (Paperback))\":\n",
        "    test_pass = False\n",
        "  recommended_books = [\"I'll Be Seeing You\", 'The Weight of Water', 'The Surgeon', 'I Know This Much Is True']\n",
        "  recommended_books_dist = [0.8, 0.77, 0.77, 0.77]\n",
        "  for i in range(4): \n",
        "    if recommends[i+1] not in recommended_books:\n",
        "      test_pass = False\n",
        "    if abs(distances[i] - recommended_books_dist[i]) >= 0.05:\n",
        "      test_pass = False\n",
        "  if test_pass:\n",
        "    print(\"You passed the challenge! 🎉🎉🎉🎉🎉\")\n",
        "  else:\n",
        "    print(\"You haven't passed yet. Keep trying!\")\n",
        "\n",
        "test_book_recommendation()"
      ],
      "execution_count": 52,
      "outputs": [
        {
          "output_type": "stream",
          "text": [
            "Recommendations for Where the Heart Is (Oprah's Book Club (Paperback)):\n",
            "\n",
            "1: Blue Diary, with distance of 0.718287467956543:\n",
            "2: The Lovely Bones: A Novel, with distance of 0.7234864234924316:\n",
            "3: I Know This Much Is True, with distance of 0.7518420815467834:\n",
            "4: Icy Sparks, with distance of 0.7731838822364807:\n",
            "5: Exclusive, with distance of 0.7893686294555664:\n",
            "You haven't passed yet. Keep trying!\n"
          ],
          "name": "stdout"
        }
      ]
    }
  ]
}